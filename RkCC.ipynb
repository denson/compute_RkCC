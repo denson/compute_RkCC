{
 "cells": [
  {
   "cell_type": "code",
   "execution_count": 1,
   "metadata": {
    "collapsed": false
   },
   "outputs": [
    {
     "data": {
      "text/plain": [
       "'\\nCreated on Fri Mar 31 14:35:34 2017\\n\\nFunction to compute the K-category correlation coefficient\\n \\n@author: Denson Smith\\n\\n'"
      ]
     },
     "execution_count": 1,
     "metadata": {},
     "output_type": "execute_result"
    }
   ],
   "source": [
    "__author__ = 'Denson Smith'\n",
    "\n",
    "'''\n",
    "Created on Fri Mar 31 14:35:34 2017\n",
    "\n",
    "Function to compute the K-category correlation coefficient\n",
    " \n",
    "@author: Denson Smith\n",
    "\n",
    "'''\n",
    " "
   ]
  },
  {
   "cell_type": "markdown",
   "metadata": {},
   "source": [
    "## Comparing two K-category assignments by a K-category correlation coefficient\n",
    "\n",
    "### Abstract\n",
    "\n",
    "\n",
    "Predicted assignments of biological sequences are often evaluated by Matthews correlation coefficient. However, Matthews correlation coefficient applies only to cases where the assignments belong to two categories, and cases with more than two categories are often artificially forced into two categories by considering what belongs and what does not belong to one of the categories, leading to the loss of information. Here, an extended correlation coefficient that applies to K-categories is proposed, and this measure is shown to be highly applicable for evaluating prediction of RNA secondary structure in cases where some predicted pairs go into the category “unknown” due to lack of reliability in predicted pairs or unpaired residues. Hence, predicting base pairs of RNA secondary structure can be a three-category problem. The measure is further shown to be well in agreement with existing performance measures used for ranking protein secondary structure predictions. \n",
    "\n",
    "Server and software is available at http://rk.kvl.dk/\n",
    "\n",
    "Paper is available at http://www.sciencedirect.com/science/article/pii/S1476927104000799"
   ]
  },
  {
   "cell_type": "markdown",
   "metadata": {},
   "source": [
    "Imports"
   ]
  },
  {
   "cell_type": "code",
   "execution_count": 2,
   "metadata": {
    "collapsed": true
   },
   "outputs": [],
   "source": [
    "import numpy as np\n",
    " \n",
    " \n",
    "from sklearn.metrics import classification_report ,confusion_matrix"
   ]
  },
  {
   "cell_type": "markdown",
   "metadata": {},
   "source": [
    "Define the function"
   ]
  },
  {
   "cell_type": "code",
   "execution_count": 3,
   "metadata": {
    "collapsed": false
   },
   "outputs": [],
   "source": [
    "def compute_RkCC(confusion_matrix):     \n",
    "    \n",
    "    '''\n",
    "    Function to compute the K-category correlation coefficient\n",
    "    http://www.sciencedirect.com/science/article/pii/S1476927104000799\n",
    "    \n",
    "    http://rk.kvl.dk/suite/04022321447260711221/\n",
    "    \n",
    "\n",
    "    Parameters\n",
    "    ----------\n",
    "    confusion_matrix : k X k confusion matrix of int\n",
    "\n",
    "    n_samples : int\n",
    "\n",
    "\n",
    "    Returns\n",
    "    -------\n",
    "    RkCC: float\n",
    "    \n",
    "    \n",
    "    '''\n",
    "\n",
    "    rows, cols = np.shape(confusion_matrix)\n",
    "    \n",
    "    RkCC_numerator=0\n",
    "    for k_ in range(cols):\n",
    "        for l_ in range(cols):\n",
    "            for m_ in range(cols):\n",
    "\n",
    "                this_term = (confusion_matrix[k_,k_] * confusion_matrix[m_,l_]) - \\\n",
    "                    (confusion_matrix[l_,k_] * confusion_matrix[k_,m_])\n",
    "\n",
    "                RkCC_numerator = RkCC_numerator + this_term\n",
    "\n",
    "    RkCC_denominator_1=0           \n",
    "    for k_ in range(cols):\n",
    "        RkCC_den_1_part1=0\n",
    "        for l_ in range(cols):\n",
    "            RkCC_den_1_part1= RkCC_den_1_part1+confusion_matrix[l_,k_]\n",
    "\n",
    "        RkCC_den_1_part2=0\n",
    "        for f_ in range(cols):\n",
    "            if f_ != k_:\n",
    "\n",
    "                for g_ in range(cols):\n",
    "\n",
    "                    RkCC_den_1_part2= RkCC_den_1_part2+confusion_matrix[g_,f_]\n",
    "\n",
    "        RkCC_denominator_1=(RkCC_denominator_1+(RkCC_den_1_part1*RkCC_den_1_part2))\n",
    "\n",
    "\n",
    "\n",
    "    RkCC_denominator_2=0           \n",
    "    for k_ in range(cols):\n",
    "        RkCC_den_2_part1=0\n",
    "        for l_ in range(cols):\n",
    "            RkCC_den_2_part1= RkCC_den_2_part1+confusion_matrix[k_,l_]\n",
    "\n",
    "        RkCC_den_2_part2=0\n",
    "        for f_ in range(cols):\n",
    "            if f_ != k_:\n",
    "\n",
    "                for g_ in range(cols):\n",
    "\n",
    "                    RkCC_den_2_part2= RkCC_den_2_part2+confusion_matrix[f_,g_]\n",
    "\n",
    "        RkCC_denominator_2=(RkCC_denominator_2+(RkCC_den_2_part1*RkCC_den_2_part2))\n",
    "\n",
    "    RkCC = (RkCC_numerator)/(np.sqrt(RkCC_denominator_1)* np.sqrt(RkCC_denominator_2))\n",
    "    \n",
    "    return RkCC"
   ]
  },
  {
   "cell_type": "code",
   "execution_count": 4,
   "metadata": {
    "collapsed": false
   },
   "outputs": [
    {
     "name": "stdout",
     "output_type": "stream",
     "text": [
      "Using scikit-learn\n",
      "[[1 0 0]\n",
      " [1 0 0]\n",
      " [0 1 2]]\n",
      "             precision    recall  f1-score   support\n",
      "\n",
      "    class 0       0.50      1.00      0.67         1\n",
      "    class 1       0.00      0.00      0.00         1\n",
      "    class 2       1.00      0.67      0.80         3\n",
      "\n",
      "avg / total       0.70      0.60      0.61         5\n",
      "\n",
      "Rk correlation coefficient = 0.4009\n",
      "\n",
      "Example from http://rk.kvl.dk/doc/dataformat.html:\n",
      "213 21 12 89 459 90 29 39 958\n",
      "[[213  21  12]\n",
      " [ 89 459  90]\n",
      " [ 29  39 958]]\n",
      "Rk correlation coefficient = 0.7550\n"
     ]
    }
   ],
   "source": [
    "print('Using scikit-learn')\n",
    "\n",
    "y_true = [0, 1, 2, 2, 2]\n",
    "y_pred = [0, 0, 2, 2, 1]\n",
    "target_names = ['class 0', 'class 1', 'class 2']\n",
    " \n",
    "labels = [0,1,2]\n",
    "\n",
    "confusion_matrix = confusion_matrix(y_true,y_pred,labels = labels)\n",
    "\n",
    "print(confusion_matrix)\n",
    " \n",
    "print(classification_report(y_true, y_pred, target_names=target_names))\n",
    " \n",
    "\n",
    "RkCC = compute_RkCC(confusion_matrix)\n",
    " \n",
    "print('Rk correlation coefficient = %.4f' % RkCC)\n",
    "\n",
    "print('')\n",
    "print(\"Example from http://rk.kvl.dk/doc/dataformat.html:\")\n",
    "print(\"213 21 12 89 459 90 29 39 958\")\n",
    "confusion_matrix = np.array([[213, 21, 12], [89, 459, 90], [29, 39, 958]])\n",
    "\n",
    "\n",
    "RkCC = compute_RkCC(confusion_matrix)\n",
    "\n",
    "print(confusion_matrix)\n",
    "print('Rk correlation coefficient = %.4f' % RkCC)\n"
   ]
  }
 ],
 "metadata": {
  "kernelspec": {
   "display_name": "Python [conda root]",
   "language": "python",
   "name": "conda-root-py"
  },
  "language_info": {
   "codemirror_mode": {
    "name": "ipython",
    "version": 2
   },
   "file_extension": ".py",
   "mimetype": "text/x-python",
   "name": "python",
   "nbconvert_exporter": "python",
   "pygments_lexer": "ipython2",
   "version": "2.7.13"
  }
 },
 "nbformat": 4,
 "nbformat_minor": 2
}
